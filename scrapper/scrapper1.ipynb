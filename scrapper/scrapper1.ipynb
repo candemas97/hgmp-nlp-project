{
 "cells": [
  {
   "cell_type": "code",
   "execution_count": 19,
   "metadata": {},
   "outputs": [],
   "source": [
    "import selenium.webdriver\n",
    "import selenium.webdriver.chrome.service\n",
    "from webdriver_manager.chrome import ChromeDriverManager\n",
    "from selenium.webdriver.support.ui import WebDriverWait\n",
    "from selenium.webdriver.support import expected_conditions as EC\n",
    "from selenium.webdriver.common.by import By\n",
    "from celery import Celery\n",
    "import time\n",
    "import datetime\n",
    "import os\n",
    "import pandas\n"
   ]
  },
  {
   "cell_type": "code",
   "execution_count": 20,
   "metadata": {},
   "outputs": [],
   "source": [
    "# Opciones de navegación\n",
    "options = selenium.webdriver.ChromeOptions()\n",
    "options.add_argument(\"--start-maximized\")\n",
    "options.add_argument(\"--disable-extensions\")\n",
    "\n",
    "service = selenium.webdriver.chrome.service.Service(ChromeDriverManager().install())\n",
    "# service = selenium.webdriver.chrome.service.Service(executable_path=\"../chromedriver.exe\")\n",
    "driver = selenium.webdriver.Chrome(service=service)\n"
   ]
  },
  {
   "cell_type": "code",
   "execution_count": 21,
   "metadata": {},
   "outputs": [],
   "source": [
    "# Iniciarla en la pantalla 2\n",
    "driver.set_window_position(2000, 0)\n",
    "driver.maximize_window()\n",
    "time.sleep(1)\n"
   ]
  },
  {
   "cell_type": "code",
   "execution_count": 22,
   "metadata": {},
   "outputs": [],
   "source": [
    "# Inicializamos el navegador\n",
    "driver.get(\"https://www.letras.com/\")\n"
   ]
  },
  {
   "cell_type": "code",
   "execution_count": 23,
   "metadata": {},
   "outputs": [],
   "source": [
    "artista = \"Los Bunkers\"\n",
    "cancion = \"No Me Hables de Sufrir\"\n"
   ]
  },
  {
   "cell_type": "code",
   "execution_count": 24,
   "metadata": {},
   "outputs": [],
   "source": [
    "time.sleep(1)\n"
   ]
  },
  {
   "cell_type": "code",
   "execution_count": 25,
   "metadata": {},
   "outputs": [],
   "source": [
    "input_search = driver.find_element(By.XPATH, \"/html/body/div[1]/header/div[1]/form/label/input\")\n",
    "input_search.send_keys(f\"{artista} {cancion}\")\n"
   ]
  },
  {
   "cell_type": "code",
   "execution_count": 26,
   "metadata": {},
   "outputs": [],
   "source": [
    "time.sleep(1)\n"
   ]
  },
  {
   "cell_type": "code",
   "execution_count": 27,
   "metadata": {},
   "outputs": [],
   "source": [
    "button_search = driver.find_element(By.XPATH, \"/html/body/div[1]/header/div[1]/form/button\")\n",
    "button_search.click()\n"
   ]
  },
  {
   "cell_type": "code",
   "execution_count": 29,
   "metadata": {},
   "outputs": [],
   "source": [
    "first_result = driver.find_element(By.XPATH, \"/html/body/div[1]/div[1]/div[1]/div[3]/div/div/div/div/div/div/div/div[5]/div[2]/div/div/div[1]/div[1]/div[1]/div[1]/div/a\")\n",
    "first_result.click()\n"
   ]
  },
  {
   "cell_type": "code",
   "execution_count": 30,
   "metadata": {},
   "outputs": [
    {
     "name": "stdout",
     "output_type": "stream",
     "text": [
      "Ella tiene mas de una razon\n",
      "para pedir perdon\n",
      "a mi corazon.\n",
      "Ella usa la culpa a su favor\n",
      "Mucho mejor que Dios\n",
      "Cero compasion\n",
      "Como si nada.\n",
      "Me robo la vida\n",
      "La dejo escondida\n",
      "Me quito el aliento\n",
      "Aun asi no me pidio perdon\n",
      "No me pidio perdon.\n",
      "En su almohada me encontro el amor\n",
      "Pero partido en dos\n",
      "Muera la ilusion\n",
      "Con su mirada\n",
      "Embrujo mis ganas\n",
      "Mas de una mañana\n",
      "Me quito el aliento\n",
      "Y aun asi no me pidio perdon\n",
      "Me dices que es muy tarde\n",
      "Me dices que es mejor\n",
      "Parece que no sabes\n",
      "Lo que nos guarda el dolor\n",
      "Mejor que no me hables\n",
      "No me hables de sufrir\n",
      "El tiempo es implacable\n",
      "Si se trata de ti\n",
      "Ella usa la culpa a su favor\n",
      "Mucho mejor que Dios\n",
      "Cero compasion.\n",
      "Me robo la vida\n",
      "La dejo escondida\n",
      "Y aun asi no me pidio perdon\n",
      "Tu me dices que es muy tarde\n",
      "Me dices que es mejor\n",
      "Parece que no sabes\n",
      "Lo que nos guarda el dolor\n",
      "Mejor que no me hables\n",
      "No me hables de sufrir\n",
      "El tiempo es implacable\n",
      "Si se trata de ti\n",
      "si se trata de mi\n"
     ]
    }
   ],
   "source": [
    "paragraphs = driver.find_elements(By.XPATH, '//div[@class=\"lyric\"]//p')\n",
    "\n",
    "song = \"\"\n",
    "for paragraph in paragraphs:\n",
    "    paragraph_text = paragraph.text\n",
    "    print(paragraph_text)\n",
    "    song += paragraph_text\n"
   ]
  },
  {
   "cell_type": "code",
   "execution_count": 31,
   "metadata": {},
   "outputs": [
    {
     "data": {
      "text/plain": [
       "'Ella tiene mas de una razon\\npara pedir perdon\\na mi corazon.Ella usa la culpa a su favor\\nMucho mejor que Dios\\nCero compasion\\nComo si nada.Me robo la vida\\nLa dejo escondida\\nMe quito el aliento\\nAun asi no me pidio perdon\\nNo me pidio perdon.En su almohada me encontro el amor\\nPero partido en dos\\nMuera la ilusion\\nCon su miradaEmbrujo mis ganas\\nMas de una mañana\\nMe quito el alientoY aun asi no me pidio perdonMe dices que es muy tarde\\nMe dices que es mejor\\nParece que no sabes\\nLo que nos guarda el dolorMejor que no me hables\\nNo me hables de sufrir\\nEl tiempo es implacable\\nSi se trata de tiElla usa la culpa a su favor\\nMucho mejor que Dios\\nCero compasion.Me robo la vida\\nLa dejo escondida\\nY aun asi no me pidio perdonTu me dices que es muy tarde\\nMe dices que es mejor\\nParece que no sabes\\nLo que nos guarda el dolor\\nMejor que no me hables\\nNo me hables de sufrir\\nEl tiempo es implacable\\nSi se trata de ti\\nsi se trata de mi'"
      ]
     },
     "execution_count": 31,
     "metadata": {},
     "output_type": "execute_result"
    }
   ],
   "source": [
    "song\n"
   ]
  },
  {
   "cell_type": "code",
   "execution_count": 32,
   "metadata": {},
   "outputs": [],
   "source": [
    "if not os.path.exists(\"./canciones\"):\n",
    "    os.makedirs(\"./canciones\")\n"
   ]
  },
  {
   "cell_type": "code",
   "execution_count": 33,
   "metadata": {},
   "outputs": [],
   "source": [
    "def get_song(artista: str, cancion: str):\n",
    "    input_search = driver.find_element(By.XPATH, \"/html/body/div[1]/header/div[1]/form/label/input\")\n",
    "    input_search.clear()\n",
    "    input_search.send_keys(f\"{artista} {cancion}\")\n",
    "\n",
    "    time.sleep(1)\n",
    "\n",
    "    button_search = driver.find_element(By.XPATH, \"/html/body/div[1]/header/div[1]/form/button\")\n",
    "    button_search.click()\n",
    "\n",
    "    time.sleep(3)\n",
    "\n",
    "    first_result = driver.find_elements(By.XPATH, '//a[@class=\"gs-title\"]')[0]\n",
    "    \n",
    "    first_result.click()\n",
    "\n",
    "    paragraphs = driver.find_elements(By.XPATH, '//div[@class=\"lyric\"]//p')\n",
    "\n",
    "    song = \"\"\n",
    "    for paragraph in paragraphs:\n",
    "        paragraph_text = paragraph.text\n",
    "        song += paragraph_text + \"\\n\"\n",
    "\n",
    "    if len(song) > 0:\n",
    "\n",
    "        file = open(f\"./canciones/{artista.lower()}-{cancion.lower()}.txt\", \"w+\", encoding=\"utf-8\")\n",
    "        file.write(song)\n",
    "        file.close()\n",
    "\n",
    "    "
   ]
  },
  {
   "cell_type": "code",
   "execution_count": 41,
   "metadata": {},
   "outputs": [
    {
     "data": {
      "text/html": [
       "<div>\n",
       "<style scoped>\n",
       "    .dataframe tbody tr th:only-of-type {\n",
       "        vertical-align: middle;\n",
       "    }\n",
       "\n",
       "    .dataframe tbody tr th {\n",
       "        vertical-align: top;\n",
       "    }\n",
       "\n",
       "    .dataframe thead th {\n",
       "        text-align: right;\n",
       "    }\n",
       "</style>\n",
       "<table border=\"1\" class=\"dataframe\">\n",
       "  <thead>\n",
       "    <tr style=\"text-align: right;\">\n",
       "      <th></th>\n",
       "      <th>artista</th>\n",
       "      <th>cancion</th>\n",
       "    </tr>\n",
       "  </thead>\n",
       "  <tbody>\n",
       "    <tr>\n",
       "      <th>400</th>\n",
       "      <td>Extremoduro</td>\n",
       "      <td>Sucede</td>\n",
       "    </tr>\n",
       "    <tr>\n",
       "      <th>401</th>\n",
       "      <td>Extremoduro</td>\n",
       "      <td>Pedrá</td>\n",
       "    </tr>\n",
       "  </tbody>\n",
       "</table>\n",
       "</div>"
      ],
      "text/plain": [
       "         artista cancion\n",
       "400  Extremoduro  Sucede\n",
       "401  Extremoduro   Pedrá"
      ]
     },
     "execution_count": 41,
     "metadata": {},
     "output_type": "execute_result"
    }
   ],
   "source": [
    "df = pandas.read_excel(\"./Rock.xlsx\")\n",
    "df[400:].head(2)\n"
   ]
  },
  {
   "cell_type": "code",
   "execution_count": 42,
   "metadata": {},
   "outputs": [],
   "source": [
    "canciones_descargadas = os.listdir(\"./canciones\")"
   ]
  },
  {
   "cell_type": "code",
   "execution_count": 43,
   "metadata": {},
   "outputs": [],
   "source": [
    "for idx, row in df.iterrows():\n",
    "    artista = row[\"artista\"]\n",
    "    cancion = row[\"cancion\"]\n",
    "    if f\"{artista.lower()}-{cancion.lower()}.txt\" not in canciones_descargadas:\n",
    "        print(f\"{artista.lower()} {cancion.lower()}\")"
   ]
  },
  {
   "cell_type": "code",
   "execution_count": 37,
   "metadata": {},
   "outputs": [
    {
     "name": "stdout",
     "output_type": "stream",
     "text": [
      "No he podido descargar poncho k-¿kolegas?\n",
      "No he podido descargar poncho k-¿quién soy?\n"
     ]
    }
   ],
   "source": [
    "for idx, row in df.iterrows():\n",
    "    artista = row[\"artista\"]\n",
    "    cancion = row[\"cancion\"]\n",
    "    if f\"{artista.lower()}-{cancion.lower()}.txt\" not in canciones_descargadas:\n",
    "        try:\n",
    "            get_song(artista, cancion)\n",
    "        except:\n",
    "            print(f\"No he podido descargar {artista.lower()}-{cancion.lower()}\")"
   ]
  }
 ],
 "metadata": {
  "kernelspec": {
   "display_name": "base",
   "language": "python",
   "name": "python3"
  },
  "language_info": {
   "codemirror_mode": {
    "name": "ipython",
    "version": 3
   },
   "file_extension": ".py",
   "mimetype": "text/x-python",
   "name": "python",
   "nbconvert_exporter": "python",
   "pygments_lexer": "ipython3",
   "version": "3.10.10"
  },
  "orig_nbformat": 4,
  "vscode": {
   "interpreter": {
    "hash": "d90077ce7125d20909e99e912648307be4f32fccb58a5fb76bf45800dc67acda"
   }
  }
 },
 "nbformat": 4,
 "nbformat_minor": 2
}
