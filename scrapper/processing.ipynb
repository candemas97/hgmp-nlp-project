{
 "cells": [
  {
   "cell_type": "code",
   "execution_count": 1,
   "metadata": {},
   "outputs": [],
   "source": [
    "import pandas"
   ]
  },
  {
   "cell_type": "code",
   "execution_count": 2,
   "metadata": {},
   "outputs": [],
   "source": [
    "df = pandas.read_excel(\"./Rock.xlsx\")"
   ]
  },
  {
   "cell_type": "code",
   "execution_count": 3,
   "metadata": {},
   "outputs": [
    {
     "data": {
      "text/html": [
       "<div>\n",
       "<style scoped>\n",
       "    .dataframe tbody tr th:only-of-type {\n",
       "        vertical-align: middle;\n",
       "    }\n",
       "\n",
       "    .dataframe tbody tr th {\n",
       "        vertical-align: top;\n",
       "    }\n",
       "\n",
       "    .dataframe thead th {\n",
       "        text-align: right;\n",
       "    }\n",
       "</style>\n",
       "<table border=\"1\" class=\"dataframe\">\n",
       "  <thead>\n",
       "    <tr style=\"text-align: right;\">\n",
       "      <th></th>\n",
       "      <th>Genero</th>\n",
       "      <th>Artista</th>\n",
       "      <th>Titulo</th>\n",
       "      <th>Cancion</th>\n",
       "    </tr>\n",
       "  </thead>\n",
       "  <tbody>\n",
       "  </tbody>\n",
       "</table>\n",
       "</div>"
      ],
      "text/plain": [
       "Empty DataFrame\n",
       "Columns: [Genero, Artista, Titulo, Cancion]\n",
       "Index: []"
      ]
     },
     "execution_count": 3,
     "metadata": {},
     "output_type": "execute_result"
    }
   ],
   "source": [
    "df_rock = pandas.DataFrame(columns=[\"Genero\", \"Artista\", \"Titulo\", \"Cancion\"])\n",
    "df_rock"
   ]
  },
  {
   "cell_type": "code",
   "execution_count": 4,
   "metadata": {},
   "outputs": [],
   "source": [
    "for idx, row in df.iterrows():\n",
    "    artista = row[\"artista\"]\n",
    "    cancion = row[\"cancion\"]\n",
    "\n",
    "    file = open(f\"./canciones/{artista.lower()}-{cancion.lower()}.txt\", \"r\", encoding=\"utf-8\")\n",
    "    letra = file.read()\n",
    "    file.close()\n",
    "\n",
    "    df_rock.loc[idx, \"Genero\"] = \"rock\"\n",
    "    df_rock.loc[idx, \"Artista\"] = artista\n",
    "    df_rock.loc[idx, \"Titulo\"] = cancion\n",
    "    df_rock.loc[idx, \"Cancion\"] = letra"
   ]
  },
  {
   "cell_type": "code",
   "execution_count": 5,
   "metadata": {},
   "outputs": [
    {
     "data": {
      "text/html": [
       "<div>\n",
       "<style scoped>\n",
       "    .dataframe tbody tr th:only-of-type {\n",
       "        vertical-align: middle;\n",
       "    }\n",
       "\n",
       "    .dataframe tbody tr th {\n",
       "        vertical-align: top;\n",
       "    }\n",
       "\n",
       "    .dataframe thead th {\n",
       "        text-align: right;\n",
       "    }\n",
       "</style>\n",
       "<table border=\"1\" class=\"dataframe\">\n",
       "  <thead>\n",
       "    <tr style=\"text-align: right;\">\n",
       "      <th></th>\n",
       "      <th>Genero</th>\n",
       "      <th>Artista</th>\n",
       "      <th>Titulo</th>\n",
       "      <th>Cancion</th>\n",
       "    </tr>\n",
       "  </thead>\n",
       "  <tbody>\n",
       "    <tr>\n",
       "      <th>0</th>\n",
       "      <td>rock</td>\n",
       "      <td>Soda Estero</td>\n",
       "      <td>De Música Ligera</td>\n",
       "      <td>Ella durmió\\nAl calor de las masas\\nY yo despe...</td>\n",
       "    </tr>\n",
       "    <tr>\n",
       "      <th>1</th>\n",
       "      <td>rock</td>\n",
       "      <td>Soda Estero</td>\n",
       "      <td>Persiana Americana</td>\n",
       "      <td>Yo te prefiero\\nFuera de foco, inalcanzable\\nY...</td>\n",
       "    </tr>\n",
       "    <tr>\n",
       "      <th>2</th>\n",
       "      <td>rock</td>\n",
       "      <td>Soda Estero</td>\n",
       "      <td>En la Ciudad de la Furia</td>\n",
       "      <td>Me verás volar, por la ciudad de la furia\\nDon...</td>\n",
       "    </tr>\n",
       "    <tr>\n",
       "      <th>3</th>\n",
       "      <td>rock</td>\n",
       "      <td>Soda Estero</td>\n",
       "      <td>Trátame Suavemente</td>\n",
       "      <td>Alguien me ha dicho que la soledad\\nSe esconde...</td>\n",
       "    </tr>\n",
       "    <tr>\n",
       "      <th>4</th>\n",
       "      <td>rock</td>\n",
       "      <td>Soda Estero</td>\n",
       "      <td>Cuando Pase el Temblor</td>\n",
       "      <td>Yo caminaré entre las piedras\\nHasta sentir el...</td>\n",
       "    </tr>\n",
       "    <tr>\n",
       "      <th>...</th>\n",
       "      <td>...</td>\n",
       "      <td>...</td>\n",
       "      <td>...</td>\n",
       "      <td>...</td>\n",
       "    </tr>\n",
       "    <tr>\n",
       "      <th>504</th>\n",
       "      <td>rock</td>\n",
       "      <td>Rata Blanca</td>\n",
       "      <td>Sombra Inerte del Amor</td>\n",
       "      <td>¿A quién llamar?\\n¿A quién buscar?\\nMi resulta...</td>\n",
       "    </tr>\n",
       "    <tr>\n",
       "      <th>505</th>\n",
       "      <td>rock</td>\n",
       "      <td>Rata Blanca</td>\n",
       "      <td>El Guardián de la Luz</td>\n",
       "      <td>Niebla, bosques\\nÁrboles murmuran sobre mi\\nGu...</td>\n",
       "    </tr>\n",
       "    <tr>\n",
       "      <th>506</th>\n",
       "      <td>rock</td>\n",
       "      <td>Rata Blanca</td>\n",
       "      <td>Aún Estás en Mis Sueños</td>\n",
       "      <td>Hoy desperté con un montón\\nDe marcas en mi pi...</td>\n",
       "    </tr>\n",
       "    <tr>\n",
       "      <th>507</th>\n",
       "      <td>rock</td>\n",
       "      <td>Rata Blanca</td>\n",
       "      <td>La Llave de la Puerta Secreta</td>\n",
       "      <td>Escondida en algún bosque\\nUna puerta encontra...</td>\n",
       "    </tr>\n",
       "    <tr>\n",
       "      <th>508</th>\n",
       "      <td>rock</td>\n",
       "      <td>Rata Blanca</td>\n",
       "      <td>El Círculo de Fuego</td>\n",
       "      <td>Forma irreal\\nLa cara de la Luna se oculto\\nLa...</td>\n",
       "    </tr>\n",
       "  </tbody>\n",
       "</table>\n",
       "<p>509 rows × 4 columns</p>\n",
       "</div>"
      ],
      "text/plain": [
       "    Genero      Artista                         Titulo  \\\n",
       "0     rock  Soda Estero               De Música Ligera   \n",
       "1     rock  Soda Estero             Persiana Americana   \n",
       "2     rock  Soda Estero       En la Ciudad de la Furia   \n",
       "3     rock  Soda Estero             Trátame Suavemente   \n",
       "4     rock  Soda Estero         Cuando Pase el Temblor   \n",
       "..     ...          ...                            ...   \n",
       "504   rock  Rata Blanca         Sombra Inerte del Amor   \n",
       "505   rock  Rata Blanca          El Guardián de la Luz   \n",
       "506   rock  Rata Blanca        Aún Estás en Mis Sueños   \n",
       "507   rock  Rata Blanca  La Llave de la Puerta Secreta   \n",
       "508   rock  Rata Blanca            El Círculo de Fuego   \n",
       "\n",
       "                                               Cancion  \n",
       "0    Ella durmió\\nAl calor de las masas\\nY yo despe...  \n",
       "1    Yo te prefiero\\nFuera de foco, inalcanzable\\nY...  \n",
       "2    Me verás volar, por la ciudad de la furia\\nDon...  \n",
       "3    Alguien me ha dicho que la soledad\\nSe esconde...  \n",
       "4    Yo caminaré entre las piedras\\nHasta sentir el...  \n",
       "..                                                 ...  \n",
       "504  ¿A quién llamar?\\n¿A quién buscar?\\nMi resulta...  \n",
       "505  Niebla, bosques\\nÁrboles murmuran sobre mi\\nGu...  \n",
       "506  Hoy desperté con un montón\\nDe marcas en mi pi...  \n",
       "507  Escondida en algún bosque\\nUna puerta encontra...  \n",
       "508  Forma irreal\\nLa cara de la Luna se oculto\\nLa...  \n",
       "\n",
       "[509 rows x 4 columns]"
      ]
     },
     "execution_count": 5,
     "metadata": {},
     "output_type": "execute_result"
    }
   ],
   "source": [
    "df_rock"
   ]
  },
  {
   "cell_type": "code",
   "execution_count": 6,
   "metadata": {},
   "outputs": [],
   "source": [
    "df_rock.to_csv(\"rock.csv\", index=False)"
   ]
  }
 ],
 "metadata": {
  "kernelspec": {
   "display_name": "Python 3",
   "language": "python",
   "name": "python3"
  },
  "language_info": {
   "codemirror_mode": {
    "name": "ipython",
    "version": 3
   },
   "file_extension": ".py",
   "mimetype": "text/x-python",
   "name": "python",
   "nbconvert_exporter": "python",
   "pygments_lexer": "ipython3",
   "version": "3.10.10"
  },
  "orig_nbformat": 4
 },
 "nbformat": 4,
 "nbformat_minor": 2
}
