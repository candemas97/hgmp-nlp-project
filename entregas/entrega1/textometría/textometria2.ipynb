{
 "cells": [
  {
   "cell_type": "code",
   "execution_count": 33,
   "metadata": {},
   "outputs": [],
   "source": [
    "import numpy as np\n",
    "import pandas as pd\n",
    "import spacy\n",
    "nlp = spacy.load(\"es_core_news_lg\")\n",
    "import nltk"
   ]
  },
  {
   "cell_type": "markdown",
   "metadata": {},
   "source": [
    "#### Lectura Inicial del Corpus"
   ]
  },
  {
   "cell_type": "code",
   "execution_count": 34,
   "metadata": {},
   "outputs": [],
   "source": [
    "df_canciones_raw = pd.read_csv(\"../../../data/data.csv\")"
   ]
  },
  {
   "cell_type": "code",
   "execution_count": 35,
   "metadata": {},
   "outputs": [
    {
     "name": "stdout",
     "output_type": "stream",
     "text": [
      "Registros: 3068\n",
      "Registros: 3065\n"
     ]
    }
   ],
   "source": [
    "df_canciones = df_canciones_raw.copy()\n",
    "print(f'Registros: {len(df_canciones)}')\n",
    "# Eliminación de NAs\n",
    "df_canciones = df_canciones.dropna(subset=[\"Cancion\", \"Titulo\"]).reset_index(drop=True)\n",
    "print(f'Registros: {len(df_canciones)}')\n",
    "# Eliminación de caracteres especiales\n",
    "df_canciones['Cancion'] = df_canciones['Cancion'].replace({'\\n':' ','\\r':' '},regex=True) \n",
    "df_canciones['Cancion'] = df_canciones['Cancion'].replace({'\\s+':' '},regex=True).str.strip()\n",
    "# df_canciones[\"tokens\"] = df_canciones[\"Cancion\"].apply(tk.tokenize)\n",
    "# df_canciones[\"size_tokens\"] = df_canciones[\"tokens\"].apply(len)\n",
    "# df_canciones[\"normalize\"] = df_canciones[\"Cancion\"].apply(normalize_text)\n",
    "# df_canciones = df_canciones[~(df_canciones[\"size_tokens\"] < 10)].reset_index()\n",
    "# df_canciones = df_canciones.groupby([\"Genero\"]).agg({\"Cancion\": lambda x: \" \".join(x), \"normalize\": lambda x: \" \".join(x), \"Artista\": \"count\", \"size_tokens\": [(\"mean\", \"mean\"), (\"min\", \"min\"), (\"max\", \"max\")]}).reset_index()\n",
    "# df_canciones.columns = ['_'.join(col).strip() for col in df_canciones.columns.values]\n",
    "# df_canciones = df_canciones.rename(columns={\"Genero_\": \"genero\", \"Cancion_<lambda>\": \"cancion\", \"normalize_<lambda>\": \"normalize\", \"Artista_count\": \"n_canciones\"})\n",
    "# df_canciones"
   ]
  },
  {
   "cell_type": "code",
   "execution_count": 36,
   "metadata": {},
   "outputs": [
    {
     "name": "stdout",
     "output_type": "stream",
     "text": [
      "Llegó el momento, caen las murallas Va a comenzar a la única justa de las batallas No duele el golpe, no existe el miedo Quitate el polvo, ponte de pie y vuelves al ruedo Y la presión, se siente Espera en ti tu gente Ahora vamos por todo Y te acompaña la suerte Tsamina mina zangalewa Porqué esto es África Tsamina mina eh, eh Waka waka eh, eh Tsamina mina zangalewa Porqué esto es África Oye a tu dios y no estarás solo Llegaste aquí para brillar y lo tienes todo La hora se acerca, es el momento Vas a ganar a cada batalla, ya lo presiento Hay que empezar de cero Para tocar el cielo Ahora vamos por todo Y todos vamos por ellos Tsamina mina zangalewa Porqué esto es África Tsamina mina, eh eh Waka waka, eh eh Tsamina mina zangalewa Anawa, ah ah Tsamina mina, eh eh Waka waka, eh eh Tsamina mina zangalewa Porqué esto es África Ame la mejole biggi biggi mubbo wa A to Zet Asi tsu zala makyuni biggi biggi mubbo from east to west Bathi waka waka ma eh eh waka waka ma eh eh Zonke zizwe mazi buye Cause this is Africa Tsamina mina, anawa, ah ah Tsamina mina Tsamina mina, anawa, ah ah Tsamina mina, eh eh Waka waka, eh eh Tsamina mina zangalewa Anawa, ah ah Tsamina mina, eh eh Waka waka, eh eh Tsamina mina zangalewa Porqué esto es África Yango eh eh Yango eh eh Tsamina mina zangalewa Anawa, ah ah Yango eh eh Yango eh eh Tsamina mina zangalewa Anawa, ah ah Porqué esto es África Porqué esto es África\n"
     ]
    }
   ],
   "source": [
    "print(df_canciones['Cancion'][0])"
   ]
  },
  {
   "cell_type": "markdown",
   "metadata": {},
   "source": [
    "### Funciones"
   ]
  },
  {
   "cell_type": "markdown",
   "metadata": {},
   "source": [
    "#### Longitud de la canción"
   ]
  },
  {
   "cell_type": "code",
   "execution_count": 37,
   "metadata": {},
   "outputs": [],
   "source": [
    "def calcular_lonigtud_cancion(letra_cancion):\n",
    "    doc = nlp(letra_cancion)\n",
    "    palabras = [token.text.lower() for token in doc if token.is_alpha and not token.is_stop and not token.is_punct]\n",
    "    total_palabras = len(palabras)  # Número total de palabras\n",
    "    return total_palabras"
   ]
  },
  {
   "cell_type": "markdown",
   "metadata": {},
   "source": [
    "#### Diversidad Léxica"
   ]
  },
  {
   "cell_type": "code",
   "execution_count": 38,
   "metadata": {},
   "outputs": [],
   "source": [
    "def calcular_diversidad_lexica(letra_cancion):\n",
    "    doc = nlp(letra_cancion)\n",
    "    palabras = [token.text.lower() for token in doc if token.is_alpha and not token.is_stop and not token.is_punct]\n",
    "    palabras_unicas = len(set(palabras)) # Número de palabras únicas\n",
    "    total_palabras = len(palabras)  # Número total de palabras\n",
    "    if total_palabras == 0:\n",
    "        return 0  \n",
    "    else:\n",
    "        diversidad_lexica = np.round(palabras_unicas / total_palabras,4)\n",
    "        return diversidad_lexica"
   ]
  },
  {
   "cell_type": "markdown",
   "metadata": {},
   "source": [
    "#### Número de Adjetivos, Verbos y Sustantivos"
   ]
  },
  {
   "cell_type": "code",
   "execution_count": 39,
   "metadata": {},
   "outputs": [],
   "source": [
    "def porcentaje_verbos_unicos(letra_cancion):\n",
    "    doc = nlp(letra_cancion)\n",
    "    palabras = [token.text.lower() for token in doc if token.is_alpha and not token.is_stop and not token.is_punct]\n",
    "    total_palabras = len(palabras)\n",
    "    pos_objetivo = set([token.text.lower() for token in nlp(' '.join(palabras)) if token.pos_=='VERB'])\n",
    "    total_pos_objetivo_unicos = len(pos_objetivo)\n",
    "    if total_palabras == 0:\n",
    "        return 0  \n",
    "    else:\n",
    "        return np.round(total_pos_objetivo_unicos / total_palabras,4)\n",
    "    \n",
    "def porcentaje_sustantivos_unicos(letra_cancion):\n",
    "    doc = nlp(letra_cancion)\n",
    "    palabras = [token.text.lower() for token in doc if token.is_alpha and not token.is_stop and not token.is_punct]\n",
    "    total_palabras = len(palabras)\n",
    "    pos_objetivo = set([token.text.lower() for token in nlp(' '.join(palabras)) if token.pos_=='NOUN'])\n",
    "    total_pos_objetivo_unicos = len(pos_objetivo)\n",
    "    if total_palabras == 0:\n",
    "        return 0  \n",
    "    else:\n",
    "        return np.round(total_pos_objetivo_unicos / total_palabras,4)\n",
    "    \n",
    "def porcentaje_adjetivos_unicos(letra_cancion):\n",
    "    doc = nlp(letra_cancion)\n",
    "    palabras = [token.text.lower() for token in doc if token.is_alpha and not token.is_stop and not token.is_punct]\n",
    "    total_palabras = len(palabras)\n",
    "    pos_objetivo = set([token.text.lower() for token in nlp(' '.join(palabras)) if token.pos_=='ADJ'])\n",
    "    total_pos_objetivo_unicos = len(pos_objetivo)\n",
    "    if total_palabras == 0:\n",
    "        return 0  \n",
    "    else:\n",
    "        return np.round(total_pos_objetivo_unicos / total_palabras,4)\n"
   ]
  },
  {
   "cell_type": "markdown",
   "metadata": {},
   "source": [
    "## Transformación del Corpus"
   ]
  },
  {
   "cell_type": "code",
   "execution_count": 40,
   "metadata": {},
   "outputs": [
    {
     "name": "stdout",
     "output_type": "stream",
     "text": [
      "Número de canciones en el corpus: 3065\n",
      "Número de \"palabras\" en el corpus: 921482\n",
      "Número de caracteres en el corpus: 4690153\n"
     ]
    }
   ],
   "source": [
    "print(f'Número de canciones en el corpus: {len(df_canciones)}')\n",
    "corpus_unido = df_canciones['Cancion'].str.cat(sep=' ')\n",
    "n_palabras = len(df_canciones['Cancion'].str.cat(sep=' ').split(' '))\n",
    "print(f'Número de \"palabras\" en el corpus: {n_palabras}')\n",
    "print(f'Número de caracteres en el corpus: {len(corpus_unido)}')\n",
    "df_features = df_canciones.loc[:,df_canciones.columns[:-1]].copy()"
   ]
  },
  {
   "cell_type": "code",
   "execution_count": 41,
   "metadata": {},
   "outputs": [],
   "source": [
    "# Definición de los batches\n",
    "batch_size = 500\n",
    "batch_ranges = [range(i,min(i+batch_size,len(df_canciones))) for i in range(0,len(df_canciones),batch_size)]"
   ]
  },
  {
   "cell_type": "markdown",
   "metadata": {},
   "source": [
    "### Features Lingüísticos"
   ]
  },
  {
   "cell_type": "code",
   "execution_count": 42,
   "metadata": {},
   "outputs": [
    {
     "name": "stdout",
     "output_type": "stream",
     "text": [
      "Batch 1 de 7 finalizado!\n",
      "Batch 2 de 7 finalizado!\n",
      "Batch 3 de 7 finalizado!\n",
      "Batch 4 de 7 finalizado!\n",
      "Batch 5 de 7 finalizado!\n",
      "Batch 6 de 7 finalizado!\n",
      "Batch 7 de 7 finalizado!\n"
     ]
    }
   ],
   "source": [
    "# Longitud y Diversidad Léxica\n",
    "for i,br in enumerate(batch_ranges):\n",
    "    batch = list(br)\n",
    "    # Longitud Canción\n",
    "    df_features.loc[batch,'longitud_cancion'] = df_canciones.loc[batch,'Cancion'].apply(calcular_lonigtud_cancion)\n",
    "    # Diversidad Léxica\n",
    "    df_features.loc[batch,'diversidad_lexica'] = df_canciones.loc[batch,'Cancion'].apply(calcular_diversidad_lexica)\n",
    "    df_features.to_csv('features.csv')\n",
    "    print(f'Batch {i+1} de {len(batch_ranges)} finalizado!')"
   ]
  },
  {
   "cell_type": "code",
   "execution_count": 43,
   "metadata": {},
   "outputs": [
    {
     "name": "stdout",
     "output_type": "stream",
     "text": [
      "Batch 1 de 7 finalizado!\n",
      "Batch 2 de 7 finalizado!\n",
      "Batch 3 de 7 finalizado!\n",
      "Batch 4 de 7 finalizado!\n",
      "Batch 5 de 7 finalizado!\n",
      "Batch 6 de 7 finalizado!\n",
      "Batch 7 de 7 finalizado!\n"
     ]
    }
   ],
   "source": [
    "# Verbos, Adjetivos y Sustantivos\n",
    "for i,br in enumerate(batch_ranges):\n",
    "    batch = list(br)\n",
    "    # Longitud Canción\n",
    "    df_features.loc[batch,'verbos_unicos'] = df_canciones.loc[batch,'Cancion'].apply(porcentaje_verbos_unicos)\n",
    "    df_features.loc[batch,'adjetivos_unicos'] = df_canciones.loc[batch,'Cancion'].apply(porcentaje_adjetivos_unicos)\n",
    "    df_features.loc[batch,'sustantivos_unicos'] = df_canciones.loc[batch,'Cancion'].apply(porcentaje_sustantivos_unicos)\n",
    "    # # Diversidad Léxica\n",
    "    # df_features.loc[batch,'diversidad_lexica'] = df_canciones.loc[batch,'Cancion'].apply(calcular_diversidad_lexica)\n",
    "    df_features.to_csv('features.csv')\n",
    "    print(f'Batch {i+1} de {len(batch_ranges)} finalizado!')"
   ]
  },
  {
   "cell_type": "markdown",
   "metadata": {},
   "source": [
    "## Análisis de los Features"
   ]
  }
 ],
 "metadata": {
  "kernelspec": {
   "display_name": "nlp",
   "language": "python",
   "name": "python3"
  },
  "language_info": {
   "codemirror_mode": {
    "name": "ipython",
    "version": 3
   },
   "file_extension": ".py",
   "mimetype": "text/x-python",
   "name": "python",
   "nbconvert_exporter": "python",
   "pygments_lexer": "ipython3",
   "version": "3.11.5"
  },
  "orig_nbformat": 4
 },
 "nbformat": 4,
 "nbformat_minor": 2
}
