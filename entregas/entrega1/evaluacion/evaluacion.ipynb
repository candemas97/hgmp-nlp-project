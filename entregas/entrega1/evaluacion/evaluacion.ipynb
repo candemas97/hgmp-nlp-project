{
 "cells": [
  {
   "cell_type": "code",
   "execution_count": 1,
   "metadata": {},
   "outputs": [],
   "source": [
    "import numpy as np"
   ]
  },
  {
   "cell_type": "code",
   "execution_count": 15,
   "metadata": {},
   "outputs": [
    {
     "name": "stdout",
     "output_type": "stream",
     "text": [
      "me llamo\n",
      "la rumba\n"
     ]
    }
   ],
   "source": [
    "n_palabras_query = 2\n",
    "tipos_query = [\"Artista y Letra\",\"Letra\"]\n",
    "tipo_query = tipos_query[0]\n",
    "\n",
    "canciones = [\"Hola yo me llamo pepito\",\"Bum Bum la rumba se prende\"]\n",
    "\n",
    "for c in canciones:\n",
    "    ## TEMPORAL ##\n",
    "    tokens = c.split(\" \")\n",
    "    ## TEMPORAL ##\n",
    "    longitud_cancion = len(tokens)\n",
    "    ultimo_token_query = longitud_cancion - n_palabras_query\n",
    "    pos_query = np.random.randint(0,ultimo_token_query)\n",
    "    query = \" \".join(tokens[pos_query:pos_query+n_palabras_query])\n",
    "    print(query)\n",
    "\n"
   ]
  },
  {
   "cell_type": "code",
   "execution_count": null,
   "metadata": {},
   "outputs": [],
   "source": []
  }
 ],
 "metadata": {
  "kernelspec": {
   "display_name": "nlp",
   "language": "python",
   "name": "python3"
  },
  "language_info": {
   "codemirror_mode": {
    "name": "ipython",
    "version": 3
   },
   "file_extension": ".py",
   "mimetype": "text/x-python",
   "name": "python",
   "nbconvert_exporter": "python",
   "pygments_lexer": "ipython3",
   "version": "3.11.5"
  },
  "orig_nbformat": 4
 },
 "nbformat": 4,
 "nbformat_minor": 2
}
