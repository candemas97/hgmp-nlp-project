{
 "cells": [
  {
   "cell_type": "code",
   "execution_count": 8,
   "metadata": {},
   "outputs": [],
   "source": [
    "import torch\n",
    "from model import SongClassifier\n",
    "from transformers import RobertaTokenizer\n",
    "import sklearn.metrics\n",
    "import pandas\n",
    "import plotly.express as px"
   ]
  },
  {
   "cell_type": "code",
   "execution_count": 9,
   "metadata": {},
   "outputs": [
    {
     "name": "stdout",
     "output_type": "stream",
     "text": [
      "Using device: cuda\n"
     ]
    }
   ],
   "source": [
    "device = torch.device(\"cuda\" if torch.cuda.is_available() else \"cpu\")\n",
    "print(f\"Using device: {device}\")\n"
   ]
  },
  {
   "cell_type": "code",
   "execution_count": 10,
   "metadata": {},
   "outputs": [
    {
     "name": "stderr",
     "output_type": "stream",
     "text": [
      "You are using a model of type roberta to instantiate a model of type gpt2. This is not supported for all configurations of models and can yield errors.\n",
      "Some weights of GPT2Model were not initialized from the model checkpoint at roberta-base and are newly initialized: ['h.10.attn.c_attn.weight', 'h.3.attn.c_attn.bias', 'h.1.mlp.c_proj.bias', 'h.11.mlp.c_fc.weight', 'h.4.attn.c_proj.weight', 'h.5.ln_2.bias', 'h.0.attn.c_attn.bias', 'h.3.mlp.c_proj.weight', 'h.4.mlp.c_proj.bias', 'h.8.mlp.c_fc.weight', 'h.0.attn.c_proj.bias', 'h.11.attn.c_proj.weight', 'h.10.attn.c_proj.bias', 'h.5.attn.c_proj.bias', 'h.4.attn.c_proj.bias', 'h.9.ln_1.weight', 'h.9.ln_2.bias', 'h.9.attn.c_proj.bias', 'h.2.attn.c_attn.bias', 'h.0.mlp.c_proj.weight', 'h.1.ln_2.bias', 'h.11.ln_2.bias', 'h.7.attn.c_proj.bias', 'h.8.attn.c_proj.weight', 'h.5.ln_2.weight', 'h.10.ln_1.weight', 'h.3.ln_1.weight', 'h.2.ln_2.weight', 'h.4.mlp.c_fc.bias', 'h.8.mlp.c_proj.bias', 'wte.weight', 'h.3.mlp.c_proj.bias', 'h.9.ln_2.weight', 'h.2.mlp.c_proj.bias', 'h.2.ln_2.bias', 'h.6.ln_1.bias', 'h.2.mlp.c_fc.weight', 'h.7.mlp.c_proj.weight', 'h.1.attn.c_attn.bias', 'h.7.mlp.c_proj.bias', 'ln_f.weight', 'h.0.mlp.c_proj.bias', 'h.4.ln_2.weight', 'h.6.ln_2.weight', 'h.6.ln_2.bias', 'h.8.ln_2.bias', 'h.4.mlp.c_proj.weight', 'h.1.attn.c_proj.weight', 'h.3.attn.c_proj.weight', 'h.5.mlp.c_fc.weight', 'h.7.ln_2.bias', 'h.0.attn.c_attn.weight', 'h.7.ln_1.weight', 'h.2.ln_1.bias', 'h.2.mlp.c_fc.bias', 'h.9.mlp.c_proj.bias', 'h.4.attn.c_attn.bias', 'h.11.attn.c_proj.bias', 'h.10.mlp.c_fc.bias', 'h.11.ln_1.weight', 'h.6.mlp.c_fc.bias', 'h.5.mlp.c_proj.bias', 'h.7.mlp.c_fc.weight', 'h.9.attn.c_attn.weight', 'h.10.ln_2.weight', 'h.0.mlp.c_fc.weight', 'h.4.ln_2.bias', 'h.3.mlp.c_fc.weight', 'h.6.attn.c_attn.bias', 'h.3.mlp.c_fc.bias', 'h.1.attn.c_attn.weight', 'h.1.mlp.c_fc.weight', 'h.8.attn.c_proj.bias', 'h.6.mlp.c_proj.bias', 'h.1.ln_1.weight', 'h.11.ln_1.bias', 'h.10.attn.c_proj.weight', 'h.8.ln_1.bias', 'h.9.mlp.c_fc.bias', 'h.9.ln_1.bias', 'h.11.mlp.c_fc.bias', 'h.3.ln_2.bias', 'h.1.mlp.c_proj.weight', 'h.5.mlp.c_proj.weight', 'h.3.ln_1.bias', 'h.4.ln_1.weight', 'h.11.attn.c_attn.weight', 'h.9.mlp.c_fc.weight', 'h.5.attn.c_attn.weight', 'h.1.ln_1.bias', 'h.8.attn.c_attn.bias', 'h.4.mlp.c_fc.weight', 'h.8.ln_2.weight', 'h.5.mlp.c_fc.bias', 'h.2.attn.c_proj.bias', 'h.6.attn.c_attn.weight', 'h.6.attn.c_proj.bias', 'h.7.attn.c_attn.bias', 'h.0.ln_2.weight', 'h.7.ln_1.bias', 'h.10.ln_1.bias', 'h.2.ln_1.weight', 'h.0.ln_1.bias', 'h.6.mlp.c_proj.weight', 'h.7.mlp.c_fc.bias', 'h.2.attn.c_attn.weight', 'h.10.attn.c_attn.bias', 'ln_f.bias', 'h.2.attn.c_proj.weight', 'h.9.attn.c_attn.bias', 'h.1.mlp.c_fc.bias', 'h.1.attn.c_proj.bias', 'h.5.ln_1.bias', 'h.1.ln_2.weight', 'h.3.ln_2.weight', 'h.6.ln_1.weight', 'h.10.mlp.c_fc.weight', 'h.4.ln_1.bias', 'h.10.mlp.c_proj.bias', 'h.9.mlp.c_proj.weight', 'h.3.attn.c_proj.bias', 'h.3.attn.c_attn.weight', 'h.8.mlp.c_fc.bias', 'h.0.attn.c_proj.weight', 'h.11.mlp.c_proj.bias', 'h.5.ln_1.weight', 'h.7.attn.c_attn.weight', 'h.8.ln_1.weight', 'h.6.mlp.c_fc.weight', 'h.11.attn.c_attn.bias', 'h.11.ln_2.weight', 'h.9.attn.c_proj.weight', 'h.5.attn.c_proj.weight', 'h.10.ln_2.bias', 'h.5.attn.c_attn.bias', 'h.6.attn.c_proj.weight', 'h.4.attn.c_attn.weight', 'h.8.mlp.c_proj.weight', 'h.7.ln_2.weight', 'h.10.mlp.c_proj.weight', 'h.0.ln_2.bias', 'h.2.mlp.c_proj.weight', 'h.0.mlp.c_fc.bias', 'h.11.mlp.c_proj.weight', 'h.7.attn.c_proj.weight', 'h.8.attn.c_attn.weight', 'h.0.ln_1.weight', 'wpe.weight']\n",
      "You should probably TRAIN this model on a down-stream task to be able to use it for predictions and inference.\n"
     ]
    }
   ],
   "source": [
    "# Inicializar el modelo (aquí asumo que es una clasificación binaria)\n",
    "model_name = \"roberta-base\"\n",
    "model = SongClassifier(model_name, 5)\n"
   ]
  },
  {
   "cell_type": "code",
   "execution_count": 11,
   "metadata": {},
   "outputs": [
    {
     "data": {
      "text/plain": [
       "SongClassifier(\n",
       "  (gpt2): GPT2Model(\n",
       "    (wte): Embedding(50265, 768)\n",
       "    (wpe): Embedding(514, 768)\n",
       "    (drop): Dropout(p=0.1, inplace=False)\n",
       "    (h): ModuleList(\n",
       "      (0-11): 12 x GPT2Block(\n",
       "        (ln_1): LayerNorm((768,), eps=1e-05, elementwise_affine=True)\n",
       "        (attn): GPT2Attention(\n",
       "          (c_attn): Conv1D()\n",
       "          (c_proj): Conv1D()\n",
       "          (attn_dropout): Dropout(p=0.1, inplace=False)\n",
       "          (resid_dropout): Dropout(p=0.1, inplace=False)\n",
       "        )\n",
       "        (ln_2): LayerNorm((768,), eps=1e-05, elementwise_affine=True)\n",
       "        (mlp): GPT2MLP(\n",
       "          (c_fc): Conv1D()\n",
       "          (c_proj): Conv1D()\n",
       "          (act): NewGELUActivation()\n",
       "          (dropout): Dropout(p=0.1, inplace=False)\n",
       "        )\n",
       "      )\n",
       "    )\n",
       "    (ln_f): LayerNorm((768,), eps=1e-05, elementwise_affine=True)\n",
       "  )\n",
       "  (classifier): Linear(in_features=768, out_features=5, bias=True)\n",
       ")"
      ]
     },
     "execution_count": 11,
     "metadata": {},
     "output_type": "execute_result"
    }
   ],
   "source": [
    "# Cargar los pesos\n",
    "model.load_state_dict(torch.load(\"../output_models/best_model.pt\"))\n",
    "\n",
    "# Mover el modelo a eval mode (esto es crucial para asegurarte de que el modelo funcione en modo inferencia y no en modo entrenamiento)\n",
    "model.eval()\n"
   ]
  },
  {
   "cell_type": "code",
   "execution_count": 12,
   "metadata": {},
   "outputs": [],
   "source": [
    "tokenizer = RobertaTokenizer.from_pretrained(model_name)"
   ]
  },
  {
   "cell_type": "code",
   "execution_count": 13,
   "metadata": {},
   "outputs": [],
   "source": [
    "def prediction_genero(text):\n",
    "    # Tokenizar el texto\n",
    "    inputs = tokenizer(text, return_tensors=\"pt\", max_length=512, truncation=True, padding=\"max_length\")\n",
    "\n",
    "    with torch.no_grad():\n",
    "        logits = model(**inputs)\n",
    "        probs = torch.nn.functional.softmax(logits, dim=1)\n",
    "        prediction = torch.argmax(probs, dim=1)\n",
    "\n",
    "    return prediction.item()\n"
   ]
  },
  {
   "cell_type": "code",
   "execution_count": 14,
   "metadata": {},
   "outputs": [
    {
     "data": {
      "text/plain": [
       "4"
      ]
     },
     "execution_count": 14,
     "metadata": {},
     "output_type": "execute_result"
    }
   ],
   "source": [
    "texto = \"hoy hallé entre los dos el pasar de una vida el pesar de mis noches el morir de mis días sin saber si aún eras mía eras mía hubo un tiempo en que yo no quería dar un brazo a torcer pero el alma entregué porque seas mía sin saber qué hacer con tu alegría y tan lejos de mí te encontré a golpe de un mirar a punto de decir que ya no estoy aquí y tan cerca de mi yo te hallé cuando busqué sobre mi hombro vacío y encontré tu compañía cuánto puede cargar tu vida sola cuánto dura una noche cuánto pesan dos vidas sin saber qué hacer si son distintas si son distintas hubo días en que tú diste tu brazo a torcer y te ahogaste en el mar de mis recuerdos sin saber nadar y tan lejos de ti yo te hallé tan solo recordar a pasos de tu risa y frente a tu mirar y tan cerca de ti me encontré al preguntar si aún estaba vivo y encontré que eras mi vida\"\n",
    "prediction_genero(texto)"
   ]
  },
  {
   "cell_type": "code",
   "execution_count": 15,
   "metadata": {},
   "outputs": [
    {
     "data": {
      "text/html": [
       "<div>\n",
       "<style scoped>\n",
       "    .dataframe tbody tr th:only-of-type {\n",
       "        vertical-align: middle;\n",
       "    }\n",
       "\n",
       "    .dataframe tbody tr th {\n",
       "        vertical-align: top;\n",
       "    }\n",
       "\n",
       "    .dataframe thead th {\n",
       "        text-align: right;\n",
       "    }\n",
       "</style>\n",
       "<table border=\"1\" class=\"dataframe\">\n",
       "  <thead>\n",
       "    <tr style=\"text-align: right;\">\n",
       "      <th></th>\n",
       "      <th>Genero</th>\n",
       "      <th>Artista</th>\n",
       "      <th>Titulo</th>\n",
       "      <th>Cancion</th>\n",
       "      <th>normalize_2</th>\n",
       "      <th>GerneroPrediction</th>\n",
       "    </tr>\n",
       "  </thead>\n",
       "  <tbody>\n",
       "    <tr>\n",
       "      <th>0</th>\n",
       "      <td>2</td>\n",
       "      <td>mar de copas</td>\n",
       "      <td>un día sin sexo</td>\n",
       "      <td>Hoy hallé entre los dos el pasar de una vida\\r...</td>\n",
       "      <td>hoy hallé entre los dos el pasar de una vida e...</td>\n",
       "      <td>4</td>\n",
       "    </tr>\n",
       "    <tr>\n",
       "      <th>1</th>\n",
       "      <td>3</td>\n",
       "      <td>Omar Geles</td>\n",
       "      <td>Hoja En Blanco</td>\n",
       "      <td>Fue imposible sacar tu recuerdo de mi mente\\r\\...</td>\n",
       "      <td>fue imposible sacar tu recuerdo de mi mente fu...</td>\n",
       "      <td>4</td>\n",
       "    </tr>\n",
       "    <tr>\n",
       "      <th>2</th>\n",
       "      <td>2</td>\n",
       "      <td>maná</td>\n",
       "      <td>en el muelle de san blas</td>\n",
       "      <td>Ella despidió a su amor\\r\\nÉl partió en un bar...</td>\n",
       "      <td>ella despidió a su amor él partió en un barco ...</td>\n",
       "      <td>4</td>\n",
       "    </tr>\n",
       "    <tr>\n",
       "      <th>3</th>\n",
       "      <td>3</td>\n",
       "      <td>Felipe Peláez</td>\n",
       "      <td>Ella y Tú</td>\n",
       "      <td>Ya no me pidas mas mas no puedo darte\\r\\nQue a...</td>\n",
       "      <td>ya no me pidas mas mas no puedo darte que amar...</td>\n",
       "      <td>3</td>\n",
       "    </tr>\n",
       "    <tr>\n",
       "      <th>4</th>\n",
       "      <td>4</td>\n",
       "      <td>Marc Anthony</td>\n",
       "      <td>When I Dream At Night</td>\n",
       "      <td>I have been in love\\r\\nAnd been alone\\r\\nI hav...</td>\n",
       "      <td>i have been in love and been alone i have trav...</td>\n",
       "      <td>4</td>\n",
       "    </tr>\n",
       "    <tr>\n",
       "      <th>...</th>\n",
       "      <td>...</td>\n",
       "      <td>...</td>\n",
       "      <td>...</td>\n",
       "      <td>...</td>\n",
       "      <td>...</td>\n",
       "      <td>...</td>\n",
       "    </tr>\n",
       "    <tr>\n",
       "      <th>455</th>\n",
       "      <td>4</td>\n",
       "      <td>Marc Anthony</td>\n",
       "      <td>Lamento Borincano</td>\n",
       "      <td>Sale loco de contento\\r\\nCon su cargamento par...</td>\n",
       "      <td>sale loco de contento con su cargamento para l...</td>\n",
       "      <td>4</td>\n",
       "    </tr>\n",
       "    <tr>\n",
       "      <th>456</th>\n",
       "      <td>2</td>\n",
       "      <td>poncho k</td>\n",
       "      <td>la cuenca</td>\n",
       "      <td>La cuenca\\r\\nSe sentó la madrugada\\r\\nEn tus o...</td>\n",
       "      <td>la cuenca se sentó la madrugada en tus ojos de...</td>\n",
       "      <td>4</td>\n",
       "    </tr>\n",
       "    <tr>\n",
       "      <th>457</th>\n",
       "      <td>2</td>\n",
       "      <td>soda estero</td>\n",
       "      <td>en el borde</td>\n",
       "      <td>Ansiedad\\r\\nMirada ausente\\r\\nNo debería esper...</td>\n",
       "      <td>ansiedad mirada ausente no debería esperar no ...</td>\n",
       "      <td>4</td>\n",
       "    </tr>\n",
       "    <tr>\n",
       "      <th>458</th>\n",
       "      <td>1</td>\n",
       "      <td>Daddy Yankee</td>\n",
       "      <td>La, La, La, La (feat. Baby Rasta Y Gringo)</td>\n",
       "      <td>(se paraliza el mundo)\\r\\nLa, la, la, la\\r\\nLa...</td>\n",
       "      <td>se paraliza el mundo la la la la la la la la e...</td>\n",
       "      <td>1</td>\n",
       "    </tr>\n",
       "    <tr>\n",
       "      <th>459</th>\n",
       "      <td>0</td>\n",
       "      <td>Manuel Medrano</td>\n",
       "      <td>Vagabundo</td>\n",
       "      <td>En un lugar desierto creí morir de sed\\r\\nY un...</td>\n",
       "      <td>en un lugar desierto creí morir de sed y un an...</td>\n",
       "      <td>4</td>\n",
       "    </tr>\n",
       "  </tbody>\n",
       "</table>\n",
       "<p>460 rows × 6 columns</p>\n",
       "</div>"
      ],
      "text/plain": [
       "     Genero         Artista                                      Titulo  \\\n",
       "0         2    mar de copas                             un día sin sexo   \n",
       "1         3      Omar Geles                              Hoja En Blanco   \n",
       "2         2            maná                    en el muelle de san blas   \n",
       "3         3   Felipe Peláez                                   Ella y Tú   \n",
       "4         4    Marc Anthony                       When I Dream At Night   \n",
       "..      ...             ...                                         ...   \n",
       "455       4    Marc Anthony                           Lamento Borincano   \n",
       "456       2        poncho k                                   la cuenca   \n",
       "457       2     soda estero                                 en el borde   \n",
       "458       1    Daddy Yankee  La, La, La, La (feat. Baby Rasta Y Gringo)   \n",
       "459       0  Manuel Medrano                                   Vagabundo   \n",
       "\n",
       "                                               Cancion  \\\n",
       "0    Hoy hallé entre los dos el pasar de una vida\\r...   \n",
       "1    Fue imposible sacar tu recuerdo de mi mente\\r\\...   \n",
       "2    Ella despidió a su amor\\r\\nÉl partió en un bar...   \n",
       "3    Ya no me pidas mas mas no puedo darte\\r\\nQue a...   \n",
       "4    I have been in love\\r\\nAnd been alone\\r\\nI hav...   \n",
       "..                                                 ...   \n",
       "455  Sale loco de contento\\r\\nCon su cargamento par...   \n",
       "456  La cuenca\\r\\nSe sentó la madrugada\\r\\nEn tus o...   \n",
       "457  Ansiedad\\r\\nMirada ausente\\r\\nNo debería esper...   \n",
       "458  (se paraliza el mundo)\\r\\nLa, la, la, la\\r\\nLa...   \n",
       "459  En un lugar desierto creí morir de sed\\r\\nY un...   \n",
       "\n",
       "                                           normalize_2  GerneroPrediction  \n",
       "0    hoy hallé entre los dos el pasar de una vida e...                  4  \n",
       "1    fue imposible sacar tu recuerdo de mi mente fu...                  4  \n",
       "2    ella despidió a su amor él partió en un barco ...                  4  \n",
       "3    ya no me pidas mas mas no puedo darte que amar...                  3  \n",
       "4    i have been in love and been alone i have trav...                  4  \n",
       "..                                                 ...                ...  \n",
       "455  sale loco de contento con su cargamento para l...                  4  \n",
       "456  la cuenca se sentó la madrugada en tus ojos de...                  4  \n",
       "457  ansiedad mirada ausente no debería esperar no ...                  4  \n",
       "458  se paraliza el mundo la la la la la la la la e...                  1  \n",
       "459  en un lugar desierto creí morir de sed y un an...                  4  \n",
       "\n",
       "[460 rows x 6 columns]"
      ]
     },
     "execution_count": 15,
     "metadata": {},
     "output_type": "execute_result"
    }
   ],
   "source": [
    "# Crear un DataFrame con las predicciones\n",
    "df_test = pandas.read_csv(\"../data/test.csv\")\n",
    "df_test[\"GerneroPrediction\"] = df_test[\"normalize_2\"].apply(lambda text: prediction_genero(text))\n",
    "df_test\n"
   ]
  },
  {
   "cell_type": "code",
   "execution_count": 16,
   "metadata": {},
   "outputs": [
    {
     "name": "stdout",
     "output_type": "stream",
     "text": [
      "Performance on Testing subset:\n",
      "Accuracy:\n",
      "0.4\n"
     ]
    }
   ],
   "source": [
    "acc = sklearn.metrics.accuracy_score(y_true=df_test[\"Genero\"], y_pred=df_test[\"GerneroPrediction\"])\n",
    "C = sklearn.metrics.confusion_matrix(y_true=df_test[\"Genero\"], y_pred=df_test[\"GerneroPrediction\"])\n",
    "\n",
    "print(\"Performance on Testing subset:\")\n",
    "print(\"Accuracy:\")\n",
    "print(acc)\n"
   ]
  },
  {
   "cell_type": "code",
   "execution_count": 17,
   "metadata": {},
   "outputs": [
    {
     "data": {
      "text/plain": [
       "0.32068621621098237"
      ]
     },
     "execution_count": 17,
     "metadata": {},
     "output_type": "execute_result"
    }
   ],
   "source": [
    "f1_scores_test = sklearn.metrics.f1_score(y_true=df_test[\"Genero\"], y_pred=df_test[\"GerneroPrediction\"], average=\"weighted\")\n",
    "f1_scores_test"
   ]
  },
  {
   "cell_type": "code",
   "execution_count": 18,
   "metadata": {},
   "outputs": [],
   "source": [
    "labels_generos = [\"pop\", \"reggaeton\", \"rock\", \"vallenato\", \"salsa\"]"
   ]
  },
  {
   "cell_type": "code",
   "execution_count": 19,
   "metadata": {},
   "outputs": [
    {
     "data": {
      "application/vnd.plotly.v1+json": {
       "config": {
        "plotlyServerURL": "https://plot.ly"
       },
       "data": [
        {
         "coloraxis": "coloraxis",
         "hovertemplate": "x: %{x}<br>y: %{y}<br>color: %{z}<extra></extra>",
         "name": "0",
         "texttemplate": "%{z:.2d}",
         "type": "heatmap",
         "x": [
          "pop",
          "reggaeton",
          "rock",
          "vallenato",
          "salsa"
         ],
         "xaxis": "x",
         "y": [
          "pop",
          "reggaeton",
          "rock",
          "vallenato",
          "salsa"
         ],
         "yaxis": "y",
         "z": [
          [
           0,
           13,
           0,
           11,
           72
          ],
          [
           0,
           75,
           0,
           8,
           16
          ],
          [
           0,
           2,
           0,
           3,
           90
          ],
          [
           0,
           3,
           0,
           33,
           43
          ],
          [
           0,
           3,
           0,
           12,
           76
          ]
         ]
        }
       ],
       "layout": {
        "autosize": false,
        "coloraxis": {
         "colorscale": [
          [
           0,
           "rgb(247,252,245)"
          ],
          [
           0.125,
           "rgb(229,245,224)"
          ],
          [
           0.25,
           "rgb(199,233,192)"
          ],
          [
           0.375,
           "rgb(161,217,155)"
          ],
          [
           0.5,
           "rgb(116,196,118)"
          ],
          [
           0.625,
           "rgb(65,171,93)"
          ],
          [
           0.75,
           "rgb(35,139,69)"
          ],
          [
           0.875,
           "rgb(0,109,44)"
          ],
          [
           1,
           "rgb(0,68,27)"
          ]
         ],
         "showscale": false
        },
        "height": 400,
        "margin": {
         "t": 60
        },
        "template": {
         "data": {
          "bar": [
           {
            "error_x": {
             "color": "rgb(51,51,51)"
            },
            "error_y": {
             "color": "rgb(51,51,51)"
            },
            "marker": {
             "line": {
              "color": "rgb(237,237,237)",
              "width": 0.5
             },
             "pattern": {
              "fillmode": "overlay",
              "size": 10,
              "solidity": 0.2
             }
            },
            "type": "bar"
           }
          ],
          "barpolar": [
           {
            "marker": {
             "line": {
              "color": "rgb(237,237,237)",
              "width": 0.5
             },
             "pattern": {
              "fillmode": "overlay",
              "size": 10,
              "solidity": 0.2
             }
            },
            "type": "barpolar"
           }
          ],
          "carpet": [
           {
            "aaxis": {
             "endlinecolor": "rgb(51,51,51)",
             "gridcolor": "white",
             "linecolor": "white",
             "minorgridcolor": "white",
             "startlinecolor": "rgb(51,51,51)"
            },
            "baxis": {
             "endlinecolor": "rgb(51,51,51)",
             "gridcolor": "white",
             "linecolor": "white",
             "minorgridcolor": "white",
             "startlinecolor": "rgb(51,51,51)"
            },
            "type": "carpet"
           }
          ],
          "choropleth": [
           {
            "colorbar": {
             "outlinewidth": 0,
             "tickcolor": "rgb(237,237,237)",
             "ticklen": 6,
             "ticks": "inside"
            },
            "type": "choropleth"
           }
          ],
          "contour": [
           {
            "colorbar": {
             "outlinewidth": 0,
             "tickcolor": "rgb(237,237,237)",
             "ticklen": 6,
             "ticks": "inside"
            },
            "colorscale": [
             [
              0,
              "rgb(20,44,66)"
             ],
             [
              1,
              "rgb(90,179,244)"
             ]
            ],
            "type": "contour"
           }
          ],
          "contourcarpet": [
           {
            "colorbar": {
             "outlinewidth": 0,
             "tickcolor": "rgb(237,237,237)",
             "ticklen": 6,
             "ticks": "inside"
            },
            "type": "contourcarpet"
           }
          ],
          "heatmap": [
           {
            "colorbar": {
             "outlinewidth": 0,
             "tickcolor": "rgb(237,237,237)",
             "ticklen": 6,
             "ticks": "inside"
            },
            "colorscale": [
             [
              0,
              "rgb(20,44,66)"
             ],
             [
              1,
              "rgb(90,179,244)"
             ]
            ],
            "type": "heatmap"
           }
          ],
          "heatmapgl": [
           {
            "colorbar": {
             "outlinewidth": 0,
             "tickcolor": "rgb(237,237,237)",
             "ticklen": 6,
             "ticks": "inside"
            },
            "colorscale": [
             [
              0,
              "rgb(20,44,66)"
             ],
             [
              1,
              "rgb(90,179,244)"
             ]
            ],
            "type": "heatmapgl"
           }
          ],
          "histogram": [
           {
            "marker": {
             "pattern": {
              "fillmode": "overlay",
              "size": 10,
              "solidity": 0.2
             }
            },
            "type": "histogram"
           }
          ],
          "histogram2d": [
           {
            "colorbar": {
             "outlinewidth": 0,
             "tickcolor": "rgb(237,237,237)",
             "ticklen": 6,
             "ticks": "inside"
            },
            "colorscale": [
             [
              0,
              "rgb(20,44,66)"
             ],
             [
              1,
              "rgb(90,179,244)"
             ]
            ],
            "type": "histogram2d"
           }
          ],
          "histogram2dcontour": [
           {
            "colorbar": {
             "outlinewidth": 0,
             "tickcolor": "rgb(237,237,237)",
             "ticklen": 6,
             "ticks": "inside"
            },
            "colorscale": [
             [
              0,
              "rgb(20,44,66)"
             ],
             [
              1,
              "rgb(90,179,244)"
             ]
            ],
            "type": "histogram2dcontour"
           }
          ],
          "mesh3d": [
           {
            "colorbar": {
             "outlinewidth": 0,
             "tickcolor": "rgb(237,237,237)",
             "ticklen": 6,
             "ticks": "inside"
            },
            "type": "mesh3d"
           }
          ],
          "parcoords": [
           {
            "line": {
             "colorbar": {
              "outlinewidth": 0,
              "tickcolor": "rgb(237,237,237)",
              "ticklen": 6,
              "ticks": "inside"
             }
            },
            "type": "parcoords"
           }
          ],
          "pie": [
           {
            "automargin": true,
            "type": "pie"
           }
          ],
          "scatter": [
           {
            "fillpattern": {
             "fillmode": "overlay",
             "size": 10,
             "solidity": 0.2
            },
            "type": "scatter"
           }
          ],
          "scatter3d": [
           {
            "line": {
             "colorbar": {
              "outlinewidth": 0,
              "tickcolor": "rgb(237,237,237)",
              "ticklen": 6,
              "ticks": "inside"
             }
            },
            "marker": {
             "colorbar": {
              "outlinewidth": 0,
              "tickcolor": "rgb(237,237,237)",
              "ticklen": 6,
              "ticks": "inside"
             }
            },
            "type": "scatter3d"
           }
          ],
          "scattercarpet": [
           {
            "marker": {
             "colorbar": {
              "outlinewidth": 0,
              "tickcolor": "rgb(237,237,237)",
              "ticklen": 6,
              "ticks": "inside"
             }
            },
            "type": "scattercarpet"
           }
          ],
          "scattergeo": [
           {
            "marker": {
             "colorbar": {
              "outlinewidth": 0,
              "tickcolor": "rgb(237,237,237)",
              "ticklen": 6,
              "ticks": "inside"
             }
            },
            "type": "scattergeo"
           }
          ],
          "scattergl": [
           {
            "marker": {
             "colorbar": {
              "outlinewidth": 0,
              "tickcolor": "rgb(237,237,237)",
              "ticklen": 6,
              "ticks": "inside"
             }
            },
            "type": "scattergl"
           }
          ],
          "scattermapbox": [
           {
            "marker": {
             "colorbar": {
              "outlinewidth": 0,
              "tickcolor": "rgb(237,237,237)",
              "ticklen": 6,
              "ticks": "inside"
             }
            },
            "type": "scattermapbox"
           }
          ],
          "scatterpolar": [
           {
            "marker": {
             "colorbar": {
              "outlinewidth": 0,
              "tickcolor": "rgb(237,237,237)",
              "ticklen": 6,
              "ticks": "inside"
             }
            },
            "type": "scatterpolar"
           }
          ],
          "scatterpolargl": [
           {
            "marker": {
             "colorbar": {
              "outlinewidth": 0,
              "tickcolor": "rgb(237,237,237)",
              "ticklen": 6,
              "ticks": "inside"
             }
            },
            "type": "scatterpolargl"
           }
          ],
          "scatterternary": [
           {
            "marker": {
             "colorbar": {
              "outlinewidth": 0,
              "tickcolor": "rgb(237,237,237)",
              "ticklen": 6,
              "ticks": "inside"
             }
            },
            "type": "scatterternary"
           }
          ],
          "surface": [
           {
            "colorbar": {
             "outlinewidth": 0,
             "tickcolor": "rgb(237,237,237)",
             "ticklen": 6,
             "ticks": "inside"
            },
            "colorscale": [
             [
              0,
              "rgb(20,44,66)"
             ],
             [
              1,
              "rgb(90,179,244)"
             ]
            ],
            "type": "surface"
           }
          ],
          "table": [
           {
            "cells": {
             "fill": {
              "color": "rgb(237,237,237)"
             },
             "line": {
              "color": "white"
             }
            },
            "header": {
             "fill": {
              "color": "rgb(217,217,217)"
             },
             "line": {
              "color": "white"
             }
            },
            "type": "table"
           }
          ]
         },
         "layout": {
          "annotationdefaults": {
           "arrowhead": 0,
           "arrowwidth": 1
          },
          "autotypenumbers": "strict",
          "coloraxis": {
           "colorbar": {
            "outlinewidth": 0,
            "tickcolor": "rgb(237,237,237)",
            "ticklen": 6,
            "ticks": "inside"
           }
          },
          "colorscale": {
           "sequential": [
            [
             0,
             "rgb(20,44,66)"
            ],
            [
             1,
             "rgb(90,179,244)"
            ]
           ],
           "sequentialminus": [
            [
             0,
             "rgb(20,44,66)"
            ],
            [
             1,
             "rgb(90,179,244)"
            ]
           ]
          },
          "colorway": [
           "#F8766D",
           "#A3A500",
           "#00BF7D",
           "#00B0F6",
           "#E76BF3"
          ],
          "font": {
           "color": "rgb(51,51,51)"
          },
          "geo": {
           "bgcolor": "white",
           "lakecolor": "white",
           "landcolor": "rgb(237,237,237)",
           "showlakes": true,
           "showland": true,
           "subunitcolor": "white"
          },
          "hoverlabel": {
           "align": "left"
          },
          "hovermode": "closest",
          "paper_bgcolor": "white",
          "plot_bgcolor": "rgb(237,237,237)",
          "polar": {
           "angularaxis": {
            "gridcolor": "white",
            "linecolor": "white",
            "showgrid": true,
            "tickcolor": "rgb(51,51,51)",
            "ticks": "outside"
           },
           "bgcolor": "rgb(237,237,237)",
           "radialaxis": {
            "gridcolor": "white",
            "linecolor": "white",
            "showgrid": true,
            "tickcolor": "rgb(51,51,51)",
            "ticks": "outside"
           }
          },
          "scene": {
           "xaxis": {
            "backgroundcolor": "rgb(237,237,237)",
            "gridcolor": "white",
            "gridwidth": 2,
            "linecolor": "white",
            "showbackground": true,
            "showgrid": true,
            "tickcolor": "rgb(51,51,51)",
            "ticks": "outside",
            "zerolinecolor": "white"
           },
           "yaxis": {
            "backgroundcolor": "rgb(237,237,237)",
            "gridcolor": "white",
            "gridwidth": 2,
            "linecolor": "white",
            "showbackground": true,
            "showgrid": true,
            "tickcolor": "rgb(51,51,51)",
            "ticks": "outside",
            "zerolinecolor": "white"
           },
           "zaxis": {
            "backgroundcolor": "rgb(237,237,237)",
            "gridcolor": "white",
            "gridwidth": 2,
            "linecolor": "white",
            "showbackground": true,
            "showgrid": true,
            "tickcolor": "rgb(51,51,51)",
            "ticks": "outside",
            "zerolinecolor": "white"
           }
          },
          "shapedefaults": {
           "fillcolor": "black",
           "line": {
            "width": 0
           },
           "opacity": 0.3
          },
          "ternary": {
           "aaxis": {
            "gridcolor": "white",
            "linecolor": "white",
            "showgrid": true,
            "tickcolor": "rgb(51,51,51)",
            "ticks": "outside"
           },
           "baxis": {
            "gridcolor": "white",
            "linecolor": "white",
            "showgrid": true,
            "tickcolor": "rgb(51,51,51)",
            "ticks": "outside"
           },
           "bgcolor": "rgb(237,237,237)",
           "caxis": {
            "gridcolor": "white",
            "linecolor": "white",
            "showgrid": true,
            "tickcolor": "rgb(51,51,51)",
            "ticks": "outside"
           }
          },
          "xaxis": {
           "automargin": true,
           "gridcolor": "white",
           "linecolor": "white",
           "showgrid": true,
           "tickcolor": "rgb(51,51,51)",
           "ticks": "outside",
           "title": {
            "standoff": 15
           },
           "zerolinecolor": "white"
          },
          "yaxis": {
           "automargin": true,
           "gridcolor": "white",
           "linecolor": "white",
           "showgrid": true,
           "tickcolor": "rgb(51,51,51)",
           "ticks": "outside",
           "title": {
            "standoff": 15
           },
           "zerolinecolor": "white"
          }
         }
        },
        "title": {
         "text": "Matriz de confusión TEST"
        },
        "width": 600,
        "xaxis": {
         "anchor": "y",
         "domain": [
          0,
          1
         ]
        },
        "yaxis": {
         "anchor": "x",
         "autorange": "reversed",
         "domain": [
          0,
          1
         ]
        }
       }
      }
     },
     "metadata": {},
     "output_type": "display_data"
    }
   ],
   "source": [
    "fig = px.imshow(\n",
    "    C,\n",
    "    text_auto=\".2d\",\n",
    "    color_continuous_scale=\"greens\",\n",
    "    x=labels_generos,\n",
    "    y=labels_generos,\n",
    "    aspect=\"auto\",\n",
    ")\n",
    "fig.update_layout(\n",
    "    title=\"Matriz de confusión TEST\",\n",
    "    autosize=False,\n",
    "    template=\"ggplot2\",\n",
    "    width=600,\n",
    "    height=400,\n",
    "    coloraxis_showscale=False\n",
    ")\n",
    "fig.show()"
   ]
  }
 ],
 "metadata": {
  "kernelspec": {
   "display_name": "Python 3",
   "language": "python",
   "name": "python3"
  },
  "language_info": {
   "codemirror_mode": {
    "name": "ipython",
    "version": 3
   },
   "file_extension": ".py",
   "mimetype": "text/x-python",
   "name": "python",
   "nbconvert_exporter": "python",
   "pygments_lexer": "ipython3",
   "version": "3.10.10"
  },
  "orig_nbformat": 4
 },
 "nbformat": 4,
 "nbformat_minor": 2
}
