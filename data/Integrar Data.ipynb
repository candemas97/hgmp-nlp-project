{
 "cells": [
  {
   "cell_type": "markdown",
   "metadata": {},
   "source": [
    "# Librerías\n"
   ]
  },
  {
   "cell_type": "code",
   "execution_count": 1,
   "metadata": {},
   "outputs": [],
   "source": [
    "import pandas as pd"
   ]
  },
  {
   "cell_type": "markdown",
   "metadata": {},
   "source": [
    "# Lectura de data\n"
   ]
  },
  {
   "cell_type": "code",
   "execution_count": 2,
   "metadata": {},
   "outputs": [],
   "source": [
    "def lectura_df(ruta: str) -> pd.DataFrame:\n",
    "    \"\"\"\n",
    "    Lee e imprime cómo está conformado el dataframe\n",
    "    \"\"\"\n",
    "    df = pd.read_csv(ruta)\n",
    "    print(df.shape)\n",
    "    return df"
   ]
  },
  {
   "cell_type": "code",
   "execution_count": 3,
   "metadata": {},
   "outputs": [
    {
     "name": "stdout",
     "output_type": "stream",
     "text": [
      "(641, 4)\n",
      "(600, 4)\n",
      "(627, 4)\n",
      "(600, 4)\n",
      "(600, 4)\n"
     ]
    }
   ],
   "source": [
    "pop = lectura_df(\"Pop/pop.csv\")\n",
    "reggaeton = lectura_df(\"Reggaeton/reggaeton.csv\")\n",
    "rock = lectura_df(\"Rock/rock.csv\")\n",
    "vallenato = lectura_df(\"Vallenato/vallenato.csv\")\n",
    "salsa = lectura_df(\"Salsa/salsa.csv\")"
   ]
  },
  {
   "cell_type": "markdown",
   "metadata": {},
   "source": [
    "# Código\n"
   ]
  },
  {
   "cell_type": "markdown",
   "metadata": {},
   "source": [
    "Función encargada de concatenar varios DataFrames\n"
   ]
  },
  {
   "cell_type": "code",
   "execution_count": 4,
   "metadata": {},
   "outputs": [],
   "source": [
    "def concatenar_varios_dataframes(dataframes: list[pd.DataFrame]) -> pd.DataFrame:\n",
    "    \"\"\"\n",
    "    Concatena varios dataframes por filas\n",
    "    \"\"\"\n",
    "    # Revisa si se pusieron más de un sólo DataFrame\n",
    "    if len(dataframes) < 2:\n",
    "        raise ValueError(\n",
    "            \"Se requieren al menos dos dataframes para realizar la concatenación.\"\n",
    "        )\n",
    "\n",
    "    # Concatena DataFrames\n",
    "    final_df = pd.concat(dataframes, ignore_index=True)\n",
    "    return final_df"
   ]
  },
  {
   "cell_type": "markdown",
   "metadata": {},
   "source": [
    "Ejecutar el código correspondiente\n"
   ]
  },
  {
   "cell_type": "code",
   "execution_count": 5,
   "metadata": {},
   "outputs": [
    {
     "data": {
      "text/plain": [
       "(3068, 4)"
      ]
     },
     "execution_count": 5,
     "metadata": {},
     "output_type": "execute_result"
    }
   ],
   "source": [
    "vector_df = [pop, reggaeton, rock, vallenato, salsa]\n",
    "df_final = concatenar_varios_dataframes(vector_df)\n",
    "df_final.shape"
   ]
  },
  {
   "cell_type": "markdown",
   "metadata": {},
   "source": [
    "# Exportar Solución\n"
   ]
  },
  {
   "cell_type": "code",
   "execution_count": 6,
   "metadata": {},
   "outputs": [],
   "source": [
    "def exportar_solucion(df: pd.DataFrame, nombre: str) -> None:\n",
    "    \"\"\" \"\n",
    "    Generar CSV solucion\n",
    "    \"\"\"\n",
    "    df.to_csv(nombre, index=False)\n",
    "    print(f\"Se generó archivo con el nombre: '{nombre}' en la ruta actual\")"
   ]
  },
  {
   "cell_type": "code",
   "execution_count": 7,
   "metadata": {},
   "outputs": [
    {
     "name": "stdout",
     "output_type": "stream",
     "text": [
      "Se generó archivo con el nombre: 'data.csv' en la ruta actual\n"
     ]
    }
   ],
   "source": [
    "exportar_solucion(df_final, \"data.csv\")"
   ]
  }
 ],
 "metadata": {
  "kernelspec": {
   "display_name": "Python 3",
   "language": "python",
   "name": "python3"
  },
  "language_info": {
   "codemirror_mode": {
    "name": "ipython",
    "version": 3
   },
   "file_extension": ".py",
   "mimetype": "text/x-python",
   "name": "python",
   "nbconvert_exporter": "python",
   "pygments_lexer": "ipython3",
   "version": "3.11.2"
  },
  "orig_nbformat": 4
 },
 "nbformat": 4,
 "nbformat_minor": 2
}
