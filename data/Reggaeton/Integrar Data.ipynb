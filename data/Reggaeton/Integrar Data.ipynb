{
 "cells": [
  {
   "cell_type": "markdown",
   "metadata": {},
   "source": [
    "# Librerías"
   ]
  },
  {
   "cell_type": "code",
   "execution_count": 2,
   "metadata": {},
   "outputs": [],
   "source": [
    "import pandas as pd"
   ]
  },
  {
   "cell_type": "markdown",
   "metadata": {},
   "source": [
    "# Lectura de data"
   ]
  },
  {
   "cell_type": "code",
   "execution_count": 5,
   "metadata": {},
   "outputs": [],
   "source": [
    "def lectura_df(ruta: str) -> pd.DataFrame:\n",
    "    \"\"\"\n",
    "    Lee e imprime cómo está conformado el dataframe\n",
    "    \"\"\"\n",
    "    df = pd.read_csv(ruta)\n",
    "    print(df.shape)\n",
    "    return df"
   ]
  },
  {
   "cell_type": "code",
   "execution_count": 6,
   "metadata": {},
   "outputs": [
    {
     "name": "stdout",
     "output_type": "stream",
     "text": [
      "(120, 4)\n",
      "(120, 4)\n",
      "(120, 4)\n",
      "(120, 4)\n",
      "(120, 4)\n"
     ]
    }
   ],
   "source": [
    "primeros_120 = lectura_df(\"Reggaetón_1_a_120/Reggaetón_consolidado_todo.csv\")\n",
    "primeros_240 = lectura_df(\"Reggaetón_121_a_240/Reggaetón_consolidado_todo.csv\")\n",
    "primeros_360 = lectura_df(\"Reggaetón_241_a_360/Reggaetón_consolidado_todo.csv\")\n",
    "primeros_480 = lectura_df(\"Reggaetón_361_a_480/Reggaetón_consolidado_todo.csv\")\n",
    "primeros_600 = lectura_df(\"Reggaetón_481_a_600/Reggaetón_consolidado_todo.csv\")"
   ]
  },
  {
   "cell_type": "markdown",
   "metadata": {},
   "source": [
    "# Código"
   ]
  },
  {
   "cell_type": "markdown",
   "metadata": {},
   "source": [
    "Función encargada de concatenar varios DataFrames"
   ]
  },
  {
   "cell_type": "code",
   "execution_count": 9,
   "metadata": {},
   "outputs": [],
   "source": [
    "def concatenar_varios_dataframes(dataframes: list[pd.DataFrame]) -> pd.DataFrame:\n",
    "    \"\"\"\n",
    "    Concatena varios dataframes por filas\n",
    "    \"\"\"\n",
    "    #Revisa si se pusieron más de un sólo DataFrame\n",
    "    if len(dataframes) < 2:\n",
    "        raise ValueError(\"Se requieren al menos dos dataframes para realizar la concatenación.\")\n",
    "\n",
    "    #Concatena DataFrames\n",
    "    final_df = pd.concat(dataframes, ignore_index=True)\n",
    "    return final_df"
   ]
  },
  {
   "cell_type": "markdown",
   "metadata": {},
   "source": [
    "Ejecutar el código correspondiente"
   ]
  },
  {
   "cell_type": "code",
   "execution_count": 11,
   "metadata": {},
   "outputs": [
    {
     "data": {
      "text/plain": [
       "(600, 4)"
      ]
     },
     "execution_count": 11,
     "metadata": {},
     "output_type": "execute_result"
    }
   ],
   "source": [
    "vector_df = [primeros_120, primeros_240, primeros_360, primeros_480, primeros_600]\n",
    "df_final = concatenar_varios_dataframes(vector_df)\n",
    "df_final.shape"
   ]
  },
  {
   "cell_type": "markdown",
   "metadata": {},
   "source": [
    "# Exportar Solución"
   ]
  },
  {
   "cell_type": "code",
   "execution_count": 18,
   "metadata": {},
   "outputs": [],
   "source": [
    "def exportar_solucion(df: pd.DataFrame, nombre: str) -> None:\n",
    "    \"\"\"\"\n",
    "    Generar CSV solucion\n",
    "    \"\"\"\n",
    "    df.to_csv(nombre, index=False)\n",
    "    print(f\"Se generó archivo con el nombre: '{nombre}' en la ruta actual\")"
   ]
  },
  {
   "cell_type": "code",
   "execution_count": 19,
   "metadata": {},
   "outputs": [
    {
     "name": "stdout",
     "output_type": "stream",
     "text": [
      "Se generó archivo con el nombre: 'reggaeton.csv' en la ruta actual\n"
     ]
    }
   ],
   "source": [
    "exportar_solucion(df_final, \"reggaeton.csv\")"
   ]
  }
 ],
 "metadata": {
  "kernelspec": {
   "display_name": "Python 3",
   "language": "python",
   "name": "python3"
  },
  "language_info": {
   "codemirror_mode": {
    "name": "ipython",
    "version": 3
   },
   "file_extension": ".py",
   "mimetype": "text/x-python",
   "name": "python",
   "nbconvert_exporter": "python",
   "pygments_lexer": "ipython3",
   "version": "3.11.2"
  },
  "orig_nbformat": 4
 },
 "nbformat": 4,
 "nbformat_minor": 2
}
